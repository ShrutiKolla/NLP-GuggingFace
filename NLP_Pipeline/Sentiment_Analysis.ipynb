{
 "cells": [
  {
   "cell_type": "markdown",
   "id": "3422ae92-b995-4f6b-a831-6649d76b4d74",
   "metadata": {
    "jp-MarkdownHeadingCollapsed": true
   },
   "source": [
    "# Web Scraping"
   ]
  },
  {
   "cell_type": "code",
   "execution_count": 73,
   "id": "32fa76ce-3383-4677-b377-e1e70e90f768",
   "metadata": {},
   "outputs": [],
   "source": [
    "import requests\n",
    "from bs4 import BeautifulSoup\n",
    "\n",
    "urls = [\"https://www.cnbctv18.com/economy/budget-24-gdp-gst-collection-fiscal-defecit-painting-a-picture-of-a-resilient-india-saurabh-m-deshmukh-18982831.htm\",\"https://www.aljazeera.com/economy/2024/2/5/analysis-indias-2024-interim-budget-shows-a-changing-economy\"]\n",
    "\n",
    "text_arr = []\n",
    "for i in urls :\n",
    "    req = requests.get(i)\n",
    "    soup = BeautifulSoup(req.content, \"html.parser\").get_text()\n",
    "    text_arr.append(soup)\n",
    "text_joined = '\\n'.join(text_arr)\n",
    "# text_joined"
   ]
  },
  {
   "cell_type": "code",
   "execution_count": 74,
   "id": "46279fe5-4125-4908-b458-1b7810c5ffbd",
   "metadata": {},
   "outputs": [],
   "source": [
    "## removing \\n from text\n",
    "\n",
    "import re\n",
    "text = re.sub(r\"\\n\", \"\", text_joined)\n",
    "# text"
   ]
  },
  {
   "cell_type": "code",
   "execution_count": 75,
   "id": "78bcf548-91b3-4eb1-ab1d-aad63c49ff2e",
   "metadata": {},
   "outputs": [],
   "source": [
    "## Splitting total text into sentences\n",
    "\n",
    "import re\n",
    "\n",
    "match = r\"\\.[^\\d]\"\n",
    "sentences = re.split(match, text)"
   ]
  },
  {
   "cell_type": "markdown",
   "id": "775c4534-da52-4f5d-bea4-7d7e8cea5465",
   "metadata": {},
   "source": [
    "# Model 1 :\n",
    "##### https://huggingface.co/ahmedrachid/FinancialBERT-Sentiment-Analysis"
   ]
  },
  {
   "cell_type": "markdown",
   "id": "27d4f0f7-6d61-4af7-87ba-607c63159ba0",
   "metadata": {
    "jp-MarkdownHeadingCollapsed": true
   },
   "source": [
    "### Importing libraries"
   ]
  },
  {
   "cell_type": "code",
   "execution_count": 76,
   "id": "b861fb6a-028f-4507-b0dc-d33b574e1f1d",
   "metadata": {},
   "outputs": [],
   "source": [
    "from transformers import BertTokenizer, BertForSequenceClassification\n",
    "from transformers import pipeline\n",
    "import pandas as pd"
   ]
  },
  {
   "cell_type": "code",
   "execution_count": 77,
   "id": "6e1d9ad0-fb19-4845-abfd-0a92c44b5e7b",
   "metadata": {},
   "outputs": [],
   "source": [
    "# !pip3 install torch torchvision torchaudio"
   ]
  },
  {
   "cell_type": "markdown",
   "id": "a214d350-1748-4068-8916-07f55799ccca",
   "metadata": {
    "jp-MarkdownHeadingCollapsed": true
   },
   "source": [
    "### Loading the model"
   ]
  },
  {
   "cell_type": "code",
   "execution_count": 78,
   "id": "d583403e-d659-41ed-8647-7ee7325d87ec",
   "metadata": {},
   "outputs": [],
   "source": [
    "model = BertForSequenceClassification.from_pretrained(\"ahmedrachid/FinancialBERT-Sentiment-Analysis\",num_labels=3)\n",
    "tokenizer = BertTokenizer.from_pretrained(\"ahmedrachid/FinancialBERT-Sentiment-Analysis\")"
   ]
  },
  {
   "cell_type": "code",
   "execution_count": 79,
   "id": "c3a939ff-4294-4b2c-b700-d98a3da0e509",
   "metadata": {},
   "outputs": [],
   "source": [
    "nlp = pipeline(\"sentiment-analysis\", model=model, tokenizer=tokenizer)"
   ]
  },
  {
   "cell_type": "code",
   "execution_count": 80,
   "id": "58ba3020-49d0-4cf4-b2e3-106ac6e64ef6",
   "metadata": {},
   "outputs": [
    {
     "name": "stdout",
     "output_type": "stream",
     "text": [
      "[42.004330098629, 10.509154558181763, 32.8415145277977]\n"
     ]
    }
   ],
   "source": [
    "results = nlp(sentences)\n",
    "label = ['positive', 'negative', 'neutral']\n",
    "score = [0,0,0]\n",
    "\n",
    "for i in range(len(results)):\n",
    "    if(results[i]['label'] == 'neutral'):\n",
    "        score[2] += results[i]['score']\n",
    "    elif(results[i]['label'] == 'positive'):\n",
    "        score[0] += results[i]['score']\n",
    "    elif(results[i]['label'] == 'negative'):\n",
    "        score[1] += results[i]['score']\n",
    "\n",
    "print(score)"
   ]
  },
  {
   "cell_type": "markdown",
   "id": "e41f565b-b24e-4cba-bf0c-109908c3e097",
   "metadata": {},
   "source": [
    "### Result\n",
    "##### Plotting pie plot"
   ]
  },
  {
   "cell_type": "code",
   "execution_count": 84,
   "id": "95faa82f-1234-411d-a209-782c212c0479",
   "metadata": {},
   "outputs": [
    {
     "data": {
      "image/png": "[encoded data removed]",
      "text/plain": [
       "<Figure size 640x480 with 1 Axes>"
      ]
     },
     "metadata": {},
     "output_type": "display_data"
    }
   ],
   "source": [
    "from matplotlib import pyplot as plt\n",
    "import numpy as np\n",
    " \n",
    "# Creating plot\n",
    "fig = plt.figure()\n",
    "colors = ['#99ff99','#ff9999','#ffcc99']\n",
    "plt.pie(score, labels=label,colors=colors, autopct='%1.1f%%',\n",
    "        shadow=True, startangle=90)\n",
    " \n",
    "# show plot\n",
    "plt.show()"
   ]
  },
  {
   "cell_type": "markdown",
   "id": "276fbfe5-3ffe-4ca0-8600-234acff76045",
   "metadata": {},
   "source": [
    "# Model 2 :\n",
    "##### https://huggingface.co/lxyuan/distilbert-base-multilingual-cased-sentiments-student"
   ]
  },
  {
   "cell_type": "markdown",
   "id": "bda23883-21c0-416a-a926-f5ccb5133c93",
   "metadata": {
    "jp-MarkdownHeadingCollapsed": true
   },
   "source": [
    "### Loading the model"
   ]
  },
  {
   "cell_type": "code",
   "execution_count": 85,
   "id": "e3c40020-fc77-41a7-a712-487540a38dc9",
   "metadata": {},
   "outputs": [],
   "source": [
    "distilled_student_sentiment_classifier = pipeline(\n",
    "    model=\"lxyuan/distilbert-base-multilingual-cased-sentiments-student\", \n",
    "    return_all_scores=True\n",
    ")"
   ]
  },
  {
   "cell_type": "code",
   "execution_count": 1,
   "id": "10304d87-6a4b-41e6-ada4-b5a1cfc0e9af",
   "metadata": {},
   "outputs": [
    {
     "ename": "NameError",
     "evalue": "name 'sentences' is not defined",
     "output_type": "error",
     "traceback": [
      "\u001b[1;31m---------------------------------------------------------------------------\u001b[0m",
      "\u001b[1;31mNameError\u001b[0m                                 Traceback (most recent call last)",
      "Cell \u001b[1;32mIn[1], line 4\u001b[0m\n\u001b[0;32m      1\u001b[0m \u001b[38;5;66;03m### this model doesn't support sentences longer than 512, therefore we are splitting longer sentences\u001b[39;00m\n\u001b[0;32m      3\u001b[0m new_sentences \u001b[38;5;241m=\u001b[39m []\n\u001b[1;32m----> 4\u001b[0m \u001b[38;5;28;01mfor\u001b[39;00m s \u001b[38;5;129;01min\u001b[39;00m sentences:\n\u001b[0;32m      5\u001b[0m     \u001b[38;5;28;01mif\u001b[39;00m \u001b[38;5;28mlen\u001b[39m(s) \u001b[38;5;241m<\u001b[39m \u001b[38;5;241m512\u001b[39m:\n\u001b[0;32m      6\u001b[0m         new_sentences\u001b[38;5;241m.\u001b[39mappend(s)\n",
      "\u001b[1;31mNameError\u001b[0m: name 'sentences' is not defined"
     ]
    }
   ],
   "source": [
    "### this model doesn't support sentences longer than 512, therefore we are splitting longer sentences\n",
    "\n",
    "new_sentences = []\n",
    "for s in sentences:\n",
    "    if len(s) < 512:\n",
    "        new_sentences.append(s)\n",
    "    else:\n",
    "        chunks = [s[i:i+511] for i in range(0, len(s), 511)]\n",
    "# new_sentences"
   ]
  },
  {
   "cell_type": "code",
   "execution_count": 88,
   "id": "28383f41-a5d8-453c-ae0f-32dc1cc0436a",
   "metadata": {},
   "outputs": [],
   "source": [
    "\n",
    "labels = ['positive', 'negative', 'neutral']\n",
    "score = [0,0,0]\n",
    "for i in new_sentences:\n",
    "    result = distilled_student_sentiment_classifier(i)\n",
    "    score[0] += result[0][0]['score']\n",
    "    score[2] += result[0][1]['score']\n",
    "    score[1] += result[0][2]['score']"
   ]
  },
  {
   "cell_type": "markdown",
   "id": "d2d6a158-922c-4f3b-84c8-cf20a7ed958b",
   "metadata": {},
   "source": [
    "### Result\n",
    "##### Plotting pie plot"
   ]
  },
  {
   "cell_type": "code",
   "execution_count": 89,
   "id": "5790cecc-51d3-4ee1-9599-009721933652",
   "metadata": {},
   "outputs": [
    {
     "data": {
      "image/png": "[encoded data removed]",
      "text/plain": [
       "<Figure size 640x480 with 1 Axes>"
      ]
     },
     "metadata": {},
     "output_type": "display_data"
    }
   ],
   "source": [
    "import matplotlib.pyplot as plt\n",
    "plt.figure()\n",
    "colors = ['#99ff99','#ff9999','#ffcc99']\n",
    "plt.pie(score, labels=labels, autopct='%1.1f%%', colors=colors,\n",
    "        shadow=True, startangle=90)\n",
    "plt.show()"
   ]
  },
  {
   "cell_type": "markdown",
   "id": "7252913f-e27a-4f96-a20d-233ac6f722c3",
   "metadata": {},
   "source": [
    "# Conclusion\n",
    "#### The sentiment analysis of both the models shows the dominance of positive sentiment by 47% - 50 % on 2024 Indian Budget.\n",
    "#### The prediction of positive sentiments of both the models are pretty close.."
   ]
  },
  {
   "cell_type": "code",
   "execution_count": null,
   "id": "b3cb24d3-eef5-49cf-b1e1-303698049f1e",
   "metadata": {},
   "outputs": [],
   "source": []
  }
 ],
 "metadata": {
  "kernelspec": {
   "display_name": "Python 3 (ipykernel)",
   "language": "python",
   "name": "python3"
  },
  "language_info": {
   "codemirror_mode": {
    "name": "ipython",
    "version": 3
   },
   "file_extension": ".py",
   "mimetype": "text/x-python",
   "name": "python",
   "nbconvert_exporter": "python",
   "pygments_lexer": "ipython3",
   "version": "3.11.7"
  }
 },
 "nbformat": 4,
 "nbformat_minor": 5
}
