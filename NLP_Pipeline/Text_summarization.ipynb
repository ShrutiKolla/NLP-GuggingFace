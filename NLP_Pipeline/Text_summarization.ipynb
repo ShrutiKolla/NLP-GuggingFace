{
 "cells": [
  {
   "cell_type": "markdown",
   "id": "432ae465-6cb0-47f6-bdc3-db27e20458d6",
   "metadata": {
    "jp-MarkdownHeadingCollapsed": true
   },
   "source": [
    "# Web Scraping"
   ]
  },
  {
   "cell_type": "code",
   "execution_count": 1,
   "id": "04f73ccb-b262-40e6-a1d3-a0378b95063e",
   "metadata": {},
   "outputs": [],
   "source": [
    "import requests\n",
    "from bs4 import BeautifulSoup\n",
    "\n",
    "urls = [\"https://www.cnbctv18.com/economy/budget-24-gdp-gst-collection-fiscal-defecit-painting-a-picture-of-a-resilient-india-saurabh-m-deshmukh-18982831.htm\", \"https://www.aljazeera.com/economy/2024/2/5/analysis-indias-2024-interim-budget-shows-a-changing-economy\"]\n",
    "req1 = requests.get(\"https://www.cnbctv18.com/economy/budget-24-gdp-gst-collection-fiscal-defecit-painting-a-picture-of-a-resilient-india-saurabh-m-deshmukh-18982831.htm\")\n",
    "req2 = requests.get(\"https://www.aljazeera.com/economy/2024/2/5/analysis-indias-2024-interim-budget-shows-a-changing-economy\")\n",
    "soup1 = BeautifulSoup(req1.content, \"html.parser\").get_text()\n",
    "soup2 = BeautifulSoup(req2.content, \"html.parser\").get_text()\n",
    "\n",
    "text_arr = []\n",
    "for i in urls :\n",
    "    req = requests.get(i)\n",
    "    soup = BeautifulSoup(req.content, \"html.parser\").get_text()\n",
    "    text_arr.append(soup)\n",
    "text_arr\n",
    "text_joined = '\\n'.join(text_arr)\n",
    "# text_joined"
   ]
  },
  {
   "cell_type": "markdown",
   "id": "defa1ad8-47c3-470c-8005-2be00bf33382",
   "metadata": {
    "jp-MarkdownHeadingCollapsed": true
   },
   "source": [
    "# Model 1:\n",
    "##### https://huggingface.co/Falconsai/text_summarization"
   ]
  },
  {
   "cell_type": "markdown",
   "id": "5efca1e8-a983-49e2-9811-00012e3751b3",
   "metadata": {},
   "source": [
    "### Imports"
   ]
  },
  {
   "cell_type": "code",
   "execution_count": 2,
   "id": "46183b95-30e8-4028-bff0-ce7c26d48fd5",
   "metadata": {},
   "outputs": [
    {
     "name": "stderr",
     "output_type": "stream",
     "text": [
      "C:\\Users\\KIIT\\anaconda3\\Lib\\site-packages\\transformers\\utils\\generic.py:260: UserWarning: torch.utils._pytree._register_pytree_node is deprecated. Please use torch.utils._pytree.register_pytree_node instead.\n",
      "  torch.utils._pytree._register_pytree_node(\n"
     ]
    }
   ],
   "source": [
    "from transformers import pipeline"
   ]
  },
  {
   "cell_type": "markdown",
   "id": "b525dc87-d8f4-4eb1-8936-c4caa8833f6c",
   "metadata": {},
   "source": [
    "### Loading the model"
   ]
  },
  {
   "cell_type": "code",
   "execution_count": 3,
   "id": "bc33be7c-a5bf-41e0-ae92-56431bfc95d3",
   "metadata": {
    "scrolled": true
   },
   "outputs": [],
   "source": [
    "summarizer = pipeline(\"summarization\", model=\"Falconsai/text_summarization\")"
   ]
  },
  {
   "cell_type": "code",
   "execution_count": 4,
   "id": "3a7cb7f5-cfe9-4eda-9eb5-aa05e736b1c8",
   "metadata": {},
   "outputs": [],
   "source": [
    "chunks = [text_joined[i:i+1000] for i in range(0, len(text_joined), 1000)]\n",
    "# chunks"
   ]
  },
  {
   "cell_type": "code",
   "execution_count": 7,
   "id": "390fd0be-b60f-4494-83f6-6a497dfb0bc2",
   "metadata": {},
   "outputs": [
    {
     "data": {
      "text/plain": [
       "\"Indian's estimated contribution to global growth rising by 200 basis points in five years . The Budget's estimates for the fiscal year 2024–25 indicate a well-balanced approach . India's projected ascent to become the third-largest economy by 2027 puts India as a key player on the global economic stage . In her speech, Sitharaman said the average real income has risen by 50 percent, more than 250 million people have been lifted from poverty .\""
      ]
     },
     "execution_count": 7,
     "metadata": {},
     "output_type": "execute_result"
    }
   ],
   "source": [
    "summary = ''\n",
    "for i in chunks:\n",
    "    summary += summarizer(i, max_length=140, min_length=70, do_sample=False)[0]['summary_text']\n",
    "total_summary = summarizer(summary)\n",
    "total_summary[0]['summary_text']"
   ]
  },
  {
   "cell_type": "code",
   "execution_count": null,
   "id": "d629719a-b830-4df3-88cb-7b7872de20c4",
   "metadata": {},
   "outputs": [],
   "source": []
  },
  {
   "cell_type": "markdown",
   "id": "95042ff2-c8ce-4865-bea2-0df3ce4ee445",
   "metadata": {},
   "source": [
    "# Model 2:"
   ]
  },
  {
   "cell_type": "code",
   "execution_count": 8,
   "id": "21d85170-150e-4b45-b597-f5646c922361",
   "metadata": {},
   "outputs": [],
   "source": [
    "summarizer = pipeline(\"summarization\", model=\"Azma-AI/bart-large-text-summarizer\")"
   ]
  },
  {
   "cell_type": "code",
   "execution_count": 13,
   "id": "5c7246e5-bbb0-4e15-b575-fb6c3c67aa6f",
   "metadata": {},
   "outputs": [
    {
     "data": {
      "text/plain": [
       "'The Interim Union Budget for the fiscal year 2024-25 was presented on February 6, 2024 at 9:36:25 AM IST. It proposes a well-balanced approach with total receipts other than borrowings estimated at ₹30.80 trillion. There is a substantial increase in the'"
      ]
     },
     "execution_count": 13,
     "metadata": {},
     "output_type": "execute_result"
    }
   ],
   "source": [
    "summary = ''\n",
    "for i in chunks:\n",
    "    summary += summarizer(i)[0]['summary_text']\n",
    "total_summary = summarizer(summary)\n",
    "total_summary[0]['summary_text']"
   ]
  },
  {
   "cell_type": "code",
   "execution_count": null,
   "id": "fc5008c9-1105-4151-9370-78f9bd47d8a9",
   "metadata": {},
   "outputs": [],
   "source": []
  },
  {
   "cell_type": "markdown",
   "id": "a3fb9f4c-56c2-47ee-957b-2e3c1c5bac4b",
   "metadata": {},
   "source": [
    "# Conlusion\n",
    "#### The 1st model works better than the 2nd one as it is providing a concise summary of the whole text, while the 2nd model is providing just a section of the whole text."
   ]
  },
  {
   "cell_type": "code",
   "execution_count": null,
   "id": "36515ec9-059a-4636-81bd-faca9b225c78",
   "metadata": {},
   "outputs": [],
   "source": []
  }
 ],
 "metadata": {
  "kernelspec": {
   "display_name": "Python 3 (ipykernel)",
   "language": "python",
   "name": "python3"
  },
  "language_info": {
   "codemirror_mode": {
    "name": "ipython",
    "version": 3
   },
   "file_extension": ".py",
   "mimetype": "text/x-python",
   "name": "python",
   "nbconvert_exporter": "python",
   "pygments_lexer": "ipython3",
   "version": "3.11.7"
  }
 },
 "nbformat": 4,
 "nbformat_minor": 5
}
